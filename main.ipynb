{
 "cells": [
  {
   "cell_type": "markdown",
   "metadata": {},
   "source": [
    "# Second-hand Automobile Price Prediction\n",
    "\n",
    "This dataset consists of three types of entities:\n",
    "\n",
    "1. its assigned insurance risk rating (symboling),\n",
    "2. its normalized losses in use as compared to other cars and\n",
    "3. the specification of an auto in terms of various characteristics.\n",
    "\n",
    "A value in the symboling column of +3 indicates that the auto is\n",
    "risky, -3 that it is probably pretty safe. The third factor is the relative average loss payment per insured\n",
    "vehicle year.\n",
    "\n",
    "Our objective is to provide potential second-hand car buyers with suitable resale values derived from various\n",
    "characteristics of the cars.\n"
   ]
  },
  {
   "cell_type": "code",
   "execution_count": 1,
   "metadata": {},
   "outputs": [],
   "source": [
    "%matplotlib inline\n",
    "import pandas as pd\n",
    "import numpy as np\n",
    "import matplotlib.pyplot as plt\n",
    "import seaborn as sns\n",
    "import itertools"
   ]
  },
  {
   "cell_type": "code",
   "execution_count": 2,
   "metadata": {},
   "outputs": [
    {
     "data": {
      "text/html": [
       "<div>\n",
       "<style scoped>\n",
       "    .dataframe tbody tr th:only-of-type {\n",
       "        vertical-align: middle;\n",
       "    }\n",
       "\n",
       "    .dataframe tbody tr th {\n",
       "        vertical-align: top;\n",
       "    }\n",
       "\n",
       "    .dataframe thead th {\n",
       "        text-align: right;\n",
       "    }\n",
       "</style>\n",
       "<table border=\"1\" class=\"dataframe\">\n",
       "  <thead>\n",
       "    <tr style=\"text-align: right;\">\n",
       "      <th></th>\n",
       "      <th>symboling</th>\n",
       "      <th>normalized-losses</th>\n",
       "      <th>make</th>\n",
       "      <th>fuel-type</th>\n",
       "      <th>aspiration</th>\n",
       "      <th>num-of-doors</th>\n",
       "      <th>body-style</th>\n",
       "      <th>drive-wheels</th>\n",
       "      <th>engine-location</th>\n",
       "      <th>wheel-base</th>\n",
       "      <th>...</th>\n",
       "      <th>engine-size</th>\n",
       "      <th>fuel-system</th>\n",
       "      <th>bore</th>\n",
       "      <th>stroke</th>\n",
       "      <th>compression-ratio</th>\n",
       "      <th>horsepower</th>\n",
       "      <th>peak-rpm</th>\n",
       "      <th>city-mpg</th>\n",
       "      <th>highway-mpg</th>\n",
       "      <th>price</th>\n",
       "    </tr>\n",
       "  </thead>\n",
       "  <tbody>\n",
       "    <tr>\n",
       "      <th>0</th>\n",
       "      <td>3</td>\n",
       "      <td>?</td>\n",
       "      <td>alfa-romero</td>\n",
       "      <td>gas</td>\n",
       "      <td>std</td>\n",
       "      <td>two</td>\n",
       "      <td>convertible</td>\n",
       "      <td>rwd</td>\n",
       "      <td>front</td>\n",
       "      <td>88.6</td>\n",
       "      <td>...</td>\n",
       "      <td>130</td>\n",
       "      <td>mpfi</td>\n",
       "      <td>3.47</td>\n",
       "      <td>2.68</td>\n",
       "      <td>9.0</td>\n",
       "      <td>111</td>\n",
       "      <td>5000</td>\n",
       "      <td>21</td>\n",
       "      <td>27</td>\n",
       "      <td>13495</td>\n",
       "    </tr>\n",
       "    <tr>\n",
       "      <th>1</th>\n",
       "      <td>3</td>\n",
       "      <td>?</td>\n",
       "      <td>alfa-romero</td>\n",
       "      <td>gas</td>\n",
       "      <td>std</td>\n",
       "      <td>two</td>\n",
       "      <td>convertible</td>\n",
       "      <td>rwd</td>\n",
       "      <td>front</td>\n",
       "      <td>88.6</td>\n",
       "      <td>...</td>\n",
       "      <td>130</td>\n",
       "      <td>mpfi</td>\n",
       "      <td>3.47</td>\n",
       "      <td>2.68</td>\n",
       "      <td>9.0</td>\n",
       "      <td>111</td>\n",
       "      <td>5000</td>\n",
       "      <td>21</td>\n",
       "      <td>27</td>\n",
       "      <td>16500</td>\n",
       "    </tr>\n",
       "    <tr>\n",
       "      <th>2</th>\n",
       "      <td>1</td>\n",
       "      <td>?</td>\n",
       "      <td>alfa-romero</td>\n",
       "      <td>gas</td>\n",
       "      <td>std</td>\n",
       "      <td>two</td>\n",
       "      <td>hatchback</td>\n",
       "      <td>rwd</td>\n",
       "      <td>front</td>\n",
       "      <td>94.5</td>\n",
       "      <td>...</td>\n",
       "      <td>152</td>\n",
       "      <td>mpfi</td>\n",
       "      <td>2.68</td>\n",
       "      <td>3.47</td>\n",
       "      <td>9.0</td>\n",
       "      <td>154</td>\n",
       "      <td>5000</td>\n",
       "      <td>19</td>\n",
       "      <td>26</td>\n",
       "      <td>16500</td>\n",
       "    </tr>\n",
       "    <tr>\n",
       "      <th>3</th>\n",
       "      <td>2</td>\n",
       "      <td>164</td>\n",
       "      <td>audi</td>\n",
       "      <td>gas</td>\n",
       "      <td>std</td>\n",
       "      <td>four</td>\n",
       "      <td>sedan</td>\n",
       "      <td>fwd</td>\n",
       "      <td>front</td>\n",
       "      <td>99.8</td>\n",
       "      <td>...</td>\n",
       "      <td>109</td>\n",
       "      <td>mpfi</td>\n",
       "      <td>3.19</td>\n",
       "      <td>3.40</td>\n",
       "      <td>10.0</td>\n",
       "      <td>102</td>\n",
       "      <td>5500</td>\n",
       "      <td>24</td>\n",
       "      <td>30</td>\n",
       "      <td>13950</td>\n",
       "    </tr>\n",
       "    <tr>\n",
       "      <th>4</th>\n",
       "      <td>2</td>\n",
       "      <td>164</td>\n",
       "      <td>audi</td>\n",
       "      <td>gas</td>\n",
       "      <td>std</td>\n",
       "      <td>four</td>\n",
       "      <td>sedan</td>\n",
       "      <td>4wd</td>\n",
       "      <td>front</td>\n",
       "      <td>99.4</td>\n",
       "      <td>...</td>\n",
       "      <td>136</td>\n",
       "      <td>mpfi</td>\n",
       "      <td>3.19</td>\n",
       "      <td>3.40</td>\n",
       "      <td>8.0</td>\n",
       "      <td>115</td>\n",
       "      <td>5500</td>\n",
       "      <td>18</td>\n",
       "      <td>22</td>\n",
       "      <td>17450</td>\n",
       "    </tr>\n",
       "  </tbody>\n",
       "</table>\n",
       "<p>5 rows × 26 columns</p>\n",
       "</div>"
      ],
      "text/plain": [
       "   symboling normalized-losses         make fuel-type aspiration num-of-doors  \\\n",
       "0          3                 ?  alfa-romero       gas        std          two   \n",
       "1          3                 ?  alfa-romero       gas        std          two   \n",
       "2          1                 ?  alfa-romero       gas        std          two   \n",
       "3          2               164         audi       gas        std         four   \n",
       "4          2               164         audi       gas        std         four   \n",
       "\n",
       "    body-style drive-wheels engine-location  wheel-base  ...  engine-size  \\\n",
       "0  convertible          rwd           front        88.6  ...          130   \n",
       "1  convertible          rwd           front        88.6  ...          130   \n",
       "2    hatchback          rwd           front        94.5  ...          152   \n",
       "3        sedan          fwd           front        99.8  ...          109   \n",
       "4        sedan          4wd           front        99.4  ...          136   \n",
       "\n",
       "   fuel-system  bore  stroke compression-ratio horsepower  peak-rpm city-mpg  \\\n",
       "0         mpfi  3.47    2.68               9.0        111      5000       21   \n",
       "1         mpfi  3.47    2.68               9.0        111      5000       21   \n",
       "2         mpfi  2.68    3.47               9.0        154      5000       19   \n",
       "3         mpfi  3.19    3.40              10.0        102      5500       24   \n",
       "4         mpfi  3.19    3.40               8.0        115      5500       18   \n",
       "\n",
       "  highway-mpg  price  \n",
       "0          27  13495  \n",
       "1          27  16500  \n",
       "2          26  16500  \n",
       "3          30  13950  \n",
       "4          22  17450  \n",
       "\n",
       "[5 rows x 26 columns]"
      ]
     },
     "execution_count": 2,
     "metadata": {},
     "output_type": "execute_result"
    }
   ],
   "source": [
    "df =pd.read_csv('automobile.data', header=None)\n",
    "df.columns = [\"symboling\",\"normalized-losses\",\"make\",\"fuel-type\",\"aspiration\", \"num-of-doors\",\"body-style\",\n",
    "         \"drive-wheels\",\"engine-location\",\"wheel-base\", \"length\",\"width\",\"height\",\"curb-weight\",\"engine-type\",\n",
    "         \"num-of-cylinders\", \"engine-size\",\"fuel-system\",\"bore\",\"stroke\",\"compression-ratio\",\"horsepower\",\n",
    "         \"peak-rpm\",\"city-mpg\",\"highway-mpg\",\"price\"]\n",
    "df.head(5)"
   ]
  },
  {
   "cell_type": "code",
   "execution_count": 3,
   "metadata": {},
   "outputs": [
    {
     "data": {
      "text/plain": [
       "symboling              int64\n",
       "normalized-losses     object\n",
       "make                  object\n",
       "fuel-type             object\n",
       "aspiration            object\n",
       "num-of-doors          object\n",
       "body-style            object\n",
       "drive-wheels          object\n",
       "engine-location       object\n",
       "wheel-base           float64\n",
       "length               float64\n",
       "width                float64\n",
       "height               float64\n",
       "curb-weight            int64\n",
       "engine-type           object\n",
       "num-of-cylinders      object\n",
       "engine-size            int64\n",
       "fuel-system           object\n",
       "bore                  object\n",
       "stroke                object\n",
       "compression-ratio    float64\n",
       "horsepower            object\n",
       "peak-rpm              object\n",
       "city-mpg               int64\n",
       "highway-mpg            int64\n",
       "price                 object\n",
       "dtype: object"
      ]
     },
     "execution_count": 3,
     "metadata": {},
     "output_type": "execute_result"
    }
   ],
   "source": [
    "df.dtypes"
   ]
  },
  {
   "cell_type": "markdown",
   "metadata": {},
   "source": [
    "## Pre-processing "
   ]
  },
  {
   "cell_type": "markdown",
   "metadata": {},
   "source": [
    "### Data Formatting"
   ]
  },
  {
   "cell_type": "code",
   "execution_count": 4,
   "metadata": {},
   "outputs": [],
   "source": [
    "df['normalized-losses'].replace('?',np.nan,inplace=True)\n",
    "df['bore'].replace('?',np.nan,inplace=True)\n",
    "df['stroke'].replace('?',np.nan,inplace=True)\n",
    "df['horsepower'].replace('?',np.nan,inplace=True)\n",
    "df['peak-rpm'].replace('?',np.nan,inplace=True)\n",
    "df['price'].replace('?',np.nan,inplace=True)\n",
    "\n",
    "df['normalized-losses'] = df['normalized-losses'].astype('float64')\n",
    "df['bore'] = df['bore'].astype('float64')\n",
    "df['stroke'] = df['stroke'].astype('float64')\n",
    "df['horsepower'] = df['horsepower'].astype('float64')\n",
    "df['peak-rpm'] = df['peak-rpm'].astype('float64')\n",
    "df['price'] = df['price'].astype('float64')"
   ]
  },
  {
   "cell_type": "markdown",
   "metadata": {},
   "source": [
    "We'll also convert variables where numbers are spelled out to numeric format."
   ]
  },
  {
   "cell_type": "code",
   "execution_count": 5,
   "metadata": {},
   "outputs": [],
   "source": [
    "def spell_to_numerals(spell):\n",
    "    return {'zero':0,\n",
    "    'one':1,    'nine':9,\n",
    "    'two':2,    'ten':10,\n",
    "    'three':3,  'eleven':11,\n",
    "    'four':4,   'twelve':12,\n",
    "    'five':5,   'thirteen':13,\n",
    "    'six':6,    'fourteen':14,\n",
    "    'seven':7,  'forteen':14,\n",
    "    'eight':8,  'fifteen':15,\n",
    "    'sixteen':16}[spell.lower()] # We won't need numbers above this.\n",
    "\n",
    "df['num-of-cylinders'] = df['num-of-cylinders'].apply(spell_to_numerals)\n",
    "df['num-of-doors'] = df['num-of-doors'].replace('?','zero').apply(spell_to_numerals)\n",
    "\n",
    "df['num-of-cylinders'] = df['num-of-cylinders'].astype('int')\n",
    "df['num-of-doors'] = df['num-of-doors'].astype('int')"
   ]
  },
  {
   "cell_type": "markdown",
   "metadata": {},
   "source": [
    "There are imperial units in this dataset. We'll do better with the metric system."
   ]
  },
  {
   "cell_type": "code",
   "execution_count": 6,
   "metadata": {},
   "outputs": [],
   "source": [
    "df[\"city-mpg\"]= 235/df[\"city-mpg\"]\n",
    "df.rename(columns = {\"city-mpg\":\"city-L/100km\"},inplace=True)"
   ]
  },
  {
   "cell_type": "code",
   "execution_count": 7,
   "metadata": {},
   "outputs": [],
   "source": [
    "df[\"highway-mpg\"]= 235/df[\"highway-mpg\"]\n",
    "df.rename(columns = {\"highway-mpg\":\"highway-L/100km\"},inplace=True)"
   ]
  },
  {
   "cell_type": "markdown",
   "metadata": {},
   "source": [
    "The engine block size is normally categorised into classes with much variance."
   ]
  },
  {
   "cell_type": "code",
   "execution_count": 8,
   "metadata": {},
   "outputs": [],
   "source": [
    "intervals = np.linspace(min(df['engine-size']), max(df['engine-size']),3)\n",
    "df['block-size'] = pd.cut(df['engine-size'], intervals, labels =  ['small block', 'large block'], include_lowest = True)"
   ]
  },
  {
   "cell_type": "markdown",
   "metadata": {},
   "source": [
    "### Treating Missing Values"
   ]
  },
  {
   "cell_type": "code",
   "execution_count": 9,
   "metadata": {},
   "outputs": [
    {
     "name": "stdout",
     "output_type": "stream",
     "text": [
      "symboling             0\n",
      "normalized-losses    41\n",
      "make                  0\n",
      "fuel-type             0\n",
      "aspiration            0\n",
      "num-of-doors          0\n",
      "body-style            0\n",
      "drive-wheels          0\n",
      "engine-location       0\n",
      "wheel-base            0\n",
      "length                0\n",
      "width                 0\n",
      "height                0\n",
      "curb-weight           0\n",
      "engine-type           0\n",
      "num-of-cylinders      0\n",
      "engine-size           0\n",
      "fuel-system           0\n",
      "bore                  4\n",
      "stroke                4\n",
      "compression-ratio     0\n",
      "horsepower            2\n",
      "peak-rpm              2\n",
      "city-L/100km          0\n",
      "highway-L/100km       0\n",
      "price                 4\n",
      "block-size            0\n",
      "dtype: int64\n"
     ]
    }
   ],
   "source": [
    "print(df.isnull().sum())"
   ]
  },
  {
   "cell_type": "code",
   "execution_count": 10,
   "metadata": {},
   "outputs": [],
   "source": [
    "df['normalized-losses'].fillna(df['normalized-losses'].mean(), inplace=True)\n",
    "df.dropna(inplace=True)"
   ]
  },
  {
   "cell_type": "code",
   "execution_count": 11,
   "metadata": {},
   "outputs": [],
   "source": [
    "df.to_csv(\"cleaned dataset\\\\automobile.csv\")"
   ]
  },
  {
   "cell_type": "markdown",
   "metadata": {},
   "source": [
    "##  Exploratory Data Analysis"
   ]
  },
  {
   "cell_type": "markdown",
   "metadata": {},
   "source": [
    "### Summary and Description"
   ]
  },
  {
   "cell_type": "code",
   "execution_count": 12,
   "metadata": {},
   "outputs": [
    {
     "data": {
      "text/html": [
       "<div>\n",
       "<style scoped>\n",
       "    .dataframe tbody tr th:only-of-type {\n",
       "        vertical-align: middle;\n",
       "    }\n",
       "\n",
       "    .dataframe tbody tr th {\n",
       "        vertical-align: top;\n",
       "    }\n",
       "\n",
       "    .dataframe thead th {\n",
       "        text-align: right;\n",
       "    }\n",
       "</style>\n",
       "<table border=\"1\" class=\"dataframe\">\n",
       "  <thead>\n",
       "    <tr style=\"text-align: right;\">\n",
       "      <th></th>\n",
       "      <th>make</th>\n",
       "      <th>fuel-type</th>\n",
       "      <th>aspiration</th>\n",
       "      <th>body-style</th>\n",
       "      <th>drive-wheels</th>\n",
       "      <th>engine-location</th>\n",
       "      <th>engine-type</th>\n",
       "      <th>fuel-system</th>\n",
       "    </tr>\n",
       "  </thead>\n",
       "  <tbody>\n",
       "    <tr>\n",
       "      <th>count</th>\n",
       "      <td>195</td>\n",
       "      <td>195</td>\n",
       "      <td>195</td>\n",
       "      <td>195</td>\n",
       "      <td>195</td>\n",
       "      <td>195</td>\n",
       "      <td>195</td>\n",
       "      <td>195</td>\n",
       "    </tr>\n",
       "    <tr>\n",
       "      <th>unique</th>\n",
       "      <td>21</td>\n",
       "      <td>2</td>\n",
       "      <td>2</td>\n",
       "      <td>5</td>\n",
       "      <td>3</td>\n",
       "      <td>2</td>\n",
       "      <td>5</td>\n",
       "      <td>7</td>\n",
       "    </tr>\n",
       "    <tr>\n",
       "      <th>top</th>\n",
       "      <td>toyota</td>\n",
       "      <td>gas</td>\n",
       "      <td>std</td>\n",
       "      <td>sedan</td>\n",
       "      <td>fwd</td>\n",
       "      <td>front</td>\n",
       "      <td>ohc</td>\n",
       "      <td>mpfi</td>\n",
       "    </tr>\n",
       "    <tr>\n",
       "      <th>freq</th>\n",
       "      <td>32</td>\n",
       "      <td>175</td>\n",
       "      <td>159</td>\n",
       "      <td>94</td>\n",
       "      <td>116</td>\n",
       "      <td>192</td>\n",
       "      <td>143</td>\n",
       "      <td>89</td>\n",
       "    </tr>\n",
       "  </tbody>\n",
       "</table>\n",
       "</div>"
      ],
      "text/plain": [
       "          make fuel-type aspiration body-style drive-wheels engine-location  \\\n",
       "count      195       195        195        195          195             195   \n",
       "unique      21         2          2          5            3               2   \n",
       "top     toyota       gas        std      sedan          fwd           front   \n",
       "freq        32       175        159         94          116             192   \n",
       "\n",
       "       engine-type fuel-system  \n",
       "count          195         195  \n",
       "unique           5           7  \n",
       "top            ohc        mpfi  \n",
       "freq           143          89  "
      ]
     },
     "execution_count": 12,
     "metadata": {},
     "output_type": "execute_result"
    }
   ],
   "source": [
    "df.describe(include='object')"
   ]
  },
  {
   "cell_type": "code",
   "execution_count": 13,
   "metadata": {},
   "outputs": [
    {
     "data": {
      "text/html": [
       "<div>\n",
       "<style scoped>\n",
       "    .dataframe tbody tr th:only-of-type {\n",
       "        vertical-align: middle;\n",
       "    }\n",
       "\n",
       "    .dataframe tbody tr th {\n",
       "        vertical-align: top;\n",
       "    }\n",
       "\n",
       "    .dataframe thead th {\n",
       "        text-align: right;\n",
       "    }\n",
       "</style>\n",
       "<table border=\"1\" class=\"dataframe\">\n",
       "  <thead>\n",
       "    <tr style=\"text-align: right;\">\n",
       "      <th></th>\n",
       "      <th>symboling</th>\n",
       "      <th>normalized-losses</th>\n",
       "      <th>num-of-doors</th>\n",
       "      <th>wheel-base</th>\n",
       "      <th>length</th>\n",
       "      <th>width</th>\n",
       "      <th>height</th>\n",
       "      <th>curb-weight</th>\n",
       "      <th>num-of-cylinders</th>\n",
       "      <th>engine-size</th>\n",
       "      <th>bore</th>\n",
       "      <th>stroke</th>\n",
       "      <th>compression-ratio</th>\n",
       "      <th>horsepower</th>\n",
       "      <th>peak-rpm</th>\n",
       "      <th>city-L/100km</th>\n",
       "      <th>highway-L/100km</th>\n",
       "      <th>price</th>\n",
       "    </tr>\n",
       "  </thead>\n",
       "  <tbody>\n",
       "    <tr>\n",
       "      <th>count</th>\n",
       "      <td>195.000000</td>\n",
       "      <td>195.000000</td>\n",
       "      <td>195.000000</td>\n",
       "      <td>195.000000</td>\n",
       "      <td>195.000000</td>\n",
       "      <td>195.000000</td>\n",
       "      <td>195.000000</td>\n",
       "      <td>195.000000</td>\n",
       "      <td>195.000000</td>\n",
       "      <td>195.000000</td>\n",
       "      <td>195.000000</td>\n",
       "      <td>195.000000</td>\n",
       "      <td>195.000000</td>\n",
       "      <td>195.000000</td>\n",
       "      <td>195.000000</td>\n",
       "      <td>195.000000</td>\n",
       "      <td>195.000000</td>\n",
       "      <td>195.000000</td>\n",
       "    </tr>\n",
       "    <tr>\n",
       "      <th>mean</th>\n",
       "      <td>0.794872</td>\n",
       "      <td>121.425641</td>\n",
       "      <td>3.128205</td>\n",
       "      <td>98.896410</td>\n",
       "      <td>174.256923</td>\n",
       "      <td>65.886154</td>\n",
       "      <td>53.861538</td>\n",
       "      <td>2559.000000</td>\n",
       "      <td>4.415385</td>\n",
       "      <td>127.938462</td>\n",
       "      <td>3.329385</td>\n",
       "      <td>3.250308</td>\n",
       "      <td>10.194974</td>\n",
       "      <td>103.271795</td>\n",
       "      <td>5099.487179</td>\n",
       "      <td>9.857335</td>\n",
       "      <td>8.005156</td>\n",
       "      <td>13248.015385</td>\n",
       "    </tr>\n",
       "    <tr>\n",
       "      <th>std</th>\n",
       "      <td>1.230612</td>\n",
       "      <td>32.232377</td>\n",
       "      <td>1.034943</td>\n",
       "      <td>6.132038</td>\n",
       "      <td>12.476443</td>\n",
       "      <td>2.132484</td>\n",
       "      <td>2.396778</td>\n",
       "      <td>524.715799</td>\n",
       "      <td>1.018777</td>\n",
       "      <td>41.433916</td>\n",
       "      <td>0.271866</td>\n",
       "      <td>0.314115</td>\n",
       "      <td>4.062109</td>\n",
       "      <td>37.869730</td>\n",
       "      <td>468.271381</td>\n",
       "      <td>2.503165</td>\n",
       "      <td>1.841735</td>\n",
       "      <td>8056.330093</td>\n",
       "    </tr>\n",
       "    <tr>\n",
       "      <th>min</th>\n",
       "      <td>-2.000000</td>\n",
       "      <td>65.000000</td>\n",
       "      <td>0.000000</td>\n",
       "      <td>86.600000</td>\n",
       "      <td>141.100000</td>\n",
       "      <td>60.300000</td>\n",
       "      <td>47.800000</td>\n",
       "      <td>1488.000000</td>\n",
       "      <td>3.000000</td>\n",
       "      <td>61.000000</td>\n",
       "      <td>2.540000</td>\n",
       "      <td>2.070000</td>\n",
       "      <td>7.000000</td>\n",
       "      <td>48.000000</td>\n",
       "      <td>4150.000000</td>\n",
       "      <td>4.795918</td>\n",
       "      <td>4.351852</td>\n",
       "      <td>5118.000000</td>\n",
       "    </tr>\n",
       "    <tr>\n",
       "      <th>25%</th>\n",
       "      <td>0.000000</td>\n",
       "      <td>96.500000</td>\n",
       "      <td>2.000000</td>\n",
       "      <td>94.500000</td>\n",
       "      <td>166.300000</td>\n",
       "      <td>64.050000</td>\n",
       "      <td>52.000000</td>\n",
       "      <td>2145.000000</td>\n",
       "      <td>4.000000</td>\n",
       "      <td>98.000000</td>\n",
       "      <td>3.150000</td>\n",
       "      <td>3.110000</td>\n",
       "      <td>8.500000</td>\n",
       "      <td>70.000000</td>\n",
       "      <td>4800.000000</td>\n",
       "      <td>7.833333</td>\n",
       "      <td>6.719771</td>\n",
       "      <td>7756.500000</td>\n",
       "    </tr>\n",
       "    <tr>\n",
       "      <th>50%</th>\n",
       "      <td>1.000000</td>\n",
       "      <td>122.000000</td>\n",
       "      <td>4.000000</td>\n",
       "      <td>97.000000</td>\n",
       "      <td>173.200000</td>\n",
       "      <td>65.400000</td>\n",
       "      <td>54.100000</td>\n",
       "      <td>2414.000000</td>\n",
       "      <td>4.000000</td>\n",
       "      <td>120.000000</td>\n",
       "      <td>3.310000</td>\n",
       "      <td>3.290000</td>\n",
       "      <td>9.000000</td>\n",
       "      <td>95.000000</td>\n",
       "      <td>5100.000000</td>\n",
       "      <td>9.400000</td>\n",
       "      <td>7.833333</td>\n",
       "      <td>10245.000000</td>\n",
       "    </tr>\n",
       "    <tr>\n",
       "      <th>75%</th>\n",
       "      <td>2.000000</td>\n",
       "      <td>135.500000</td>\n",
       "      <td>4.000000</td>\n",
       "      <td>102.400000</td>\n",
       "      <td>184.050000</td>\n",
       "      <td>66.900000</td>\n",
       "      <td>55.650000</td>\n",
       "      <td>2943.500000</td>\n",
       "      <td>4.000000</td>\n",
       "      <td>145.500000</td>\n",
       "      <td>3.590000</td>\n",
       "      <td>3.410000</td>\n",
       "      <td>9.400000</td>\n",
       "      <td>116.000000</td>\n",
       "      <td>5500.000000</td>\n",
       "      <td>12.059211</td>\n",
       "      <td>9.400000</td>\n",
       "      <td>16509.000000</td>\n",
       "    </tr>\n",
       "    <tr>\n",
       "      <th>max</th>\n",
       "      <td>3.000000</td>\n",
       "      <td>256.000000</td>\n",
       "      <td>4.000000</td>\n",
       "      <td>120.900000</td>\n",
       "      <td>208.100000</td>\n",
       "      <td>72.000000</td>\n",
       "      <td>59.800000</td>\n",
       "      <td>4066.000000</td>\n",
       "      <td>12.000000</td>\n",
       "      <td>326.000000</td>\n",
       "      <td>3.940000</td>\n",
       "      <td>4.170000</td>\n",
       "      <td>23.000000</td>\n",
       "      <td>262.000000</td>\n",
       "      <td>6600.000000</td>\n",
       "      <td>18.076923</td>\n",
       "      <td>14.687500</td>\n",
       "      <td>45400.000000</td>\n",
       "    </tr>\n",
       "  </tbody>\n",
       "</table>\n",
       "</div>"
      ],
      "text/plain": [
       "        symboling  normalized-losses  num-of-doors  wheel-base      length  \\\n",
       "count  195.000000         195.000000    195.000000  195.000000  195.000000   \n",
       "mean     0.794872         121.425641      3.128205   98.896410  174.256923   \n",
       "std      1.230612          32.232377      1.034943    6.132038   12.476443   \n",
       "min     -2.000000          65.000000      0.000000   86.600000  141.100000   \n",
       "25%      0.000000          96.500000      2.000000   94.500000  166.300000   \n",
       "50%      1.000000         122.000000      4.000000   97.000000  173.200000   \n",
       "75%      2.000000         135.500000      4.000000  102.400000  184.050000   \n",
       "max      3.000000         256.000000      4.000000  120.900000  208.100000   \n",
       "\n",
       "            width      height  curb-weight  num-of-cylinders  engine-size  \\\n",
       "count  195.000000  195.000000   195.000000        195.000000   195.000000   \n",
       "mean    65.886154   53.861538  2559.000000          4.415385   127.938462   \n",
       "std      2.132484    2.396778   524.715799          1.018777    41.433916   \n",
       "min     60.300000   47.800000  1488.000000          3.000000    61.000000   \n",
       "25%     64.050000   52.000000  2145.000000          4.000000    98.000000   \n",
       "50%     65.400000   54.100000  2414.000000          4.000000   120.000000   \n",
       "75%     66.900000   55.650000  2943.500000          4.000000   145.500000   \n",
       "max     72.000000   59.800000  4066.000000         12.000000   326.000000   \n",
       "\n",
       "             bore      stroke  compression-ratio  horsepower     peak-rpm  \\\n",
       "count  195.000000  195.000000         195.000000  195.000000   195.000000   \n",
       "mean     3.329385    3.250308          10.194974  103.271795  5099.487179   \n",
       "std      0.271866    0.314115           4.062109   37.869730   468.271381   \n",
       "min      2.540000    2.070000           7.000000   48.000000  4150.000000   \n",
       "25%      3.150000    3.110000           8.500000   70.000000  4800.000000   \n",
       "50%      3.310000    3.290000           9.000000   95.000000  5100.000000   \n",
       "75%      3.590000    3.410000           9.400000  116.000000  5500.000000   \n",
       "max      3.940000    4.170000          23.000000  262.000000  6600.000000   \n",
       "\n",
       "       city-L/100km  highway-L/100km         price  \n",
       "count    195.000000       195.000000    195.000000  \n",
       "mean       9.857335         8.005156  13248.015385  \n",
       "std        2.503165         1.841735   8056.330093  \n",
       "min        4.795918         4.351852   5118.000000  \n",
       "25%        7.833333         6.719771   7756.500000  \n",
       "50%        9.400000         7.833333  10245.000000  \n",
       "75%       12.059211         9.400000  16509.000000  \n",
       "max       18.076923        14.687500  45400.000000  "
      ]
     },
     "execution_count": 13,
     "metadata": {},
     "output_type": "execute_result"
    }
   ],
   "source": [
    "df.describe()"
   ]
  },
  {
   "cell_type": "markdown",
   "metadata": {},
   "source": [
    "### Recognising and Analyzing Individual Feature Patterns using Visualization"
   ]
  },
  {
   "cell_type": "code",
   "execution_count": 14,
   "metadata": {},
   "outputs": [
    {
     "data": {
      "text/plain": [
       "<matplotlib.axes._subplots.AxesSubplot at 0x2ededf8bdc8>"
      ]
     },
     "execution_count": 14,
     "metadata": {},
     "output_type": "execute_result"
    },
    {
     "data": {
      "image/png": "[encoded data removed]",
      "text/plain": [
       "<Figure size 432x288 with 1 Axes>"
      ]
     },
     "metadata": {
      "needs_background": "light"
     },
     "output_type": "display_data"
    }
   ],
   "source": [
    "sns.distplot(df['price'])"
   ]
  },
  {
   "cell_type": "code",
   "execution_count": 15,
   "metadata": {},
   "outputs": [
    {
     "data": {
      "image/png": "[encoded data removed]",
      "text/plain": [
       "<Figure size 432x288 with 16 Axes>"
      ]
     },
     "metadata": {
      "needs_background": "light"
     },
     "output_type": "display_data"
    }
   ],
   "source": [
    "df[[\"normalized-losses\", \"wheel-base\", \"length\",\"width\",\"height\",\"curb-weight\", \"engine-size\",\"bore\",\"stroke\",\"compression-ratio\",\"horsepower\",\n",
    "         \"peak-rpm\",\"city-L/100km\",\"highway-L/100km\",\"price\"]].hist(bins=15, color='teal', edgecolor='black', linewidth=1.0,\n",
    "           xlabelsize=8, ylabelsize=8, grid=False)\n",
    "plt.tight_layout(rect=(0, 0, 2, 2))"
   ]
  },
  {
   "cell_type": "code",
   "execution_count": 16,
   "metadata": {},
   "outputs": [
    {
     "data": {
      "text/plain": [
       "<matplotlib.axes._subplots.AxesSubplot at 0x2edeece9148>"
      ]
     },
     "execution_count": 16,
     "metadata": {},
     "output_type": "execute_result"
    },
    {
     "data": {
      "image/png": "[encoded data removed]",
      "text/plain": [
       "<Figure size 648x504 with 2 Axes>"
      ]
     },
     "metadata": {
      "needs_background": "light"
     },
     "output_type": "display_data"
    }
   ],
   "source": [
    "plt.figure(figsize=(9,7))\n",
    "sns.heatmap(df.corr(), cmap=\"YlGnBu\")"
   ]
  },
  {
   "cell_type": "code",
   "execution_count": 17,
   "metadata": {},
   "outputs": [
    {
     "data": {
      "text/plain": [
       "<seaborn.axisgrid.FacetGrid at 0x2edef1dcc48>"
      ]
     },
     "execution_count": 17,
     "metadata": {},
     "output_type": "execute_result"
    },
    {
     "data": {
      "image/png": "[encoded data removed]",
      "text/plain": [
       "<Figure size 360x360 with 1 Axes>"
      ]
     },
     "metadata": {
      "needs_background": "light"
     },
     "output_type": "display_data"
    }
   ],
   "source": [
    "sns.lmplot('horsepower', 'price', df, scatter_kws={'color': 'orange'})"
   ]
  },
  {
   "cell_type": "code",
   "execution_count": 28,
   "metadata": {},
   "outputs": [
    {
     "data": {
      "text/plain": [
       "<matplotlib.axes._subplots.AxesSubplot at 0x2edeec2e888>"
      ]
     },
     "execution_count": 28,
     "metadata": {},
     "output_type": "execute_result"
    },
    {
     "data": {
      "image/png": "[encoded data removed]",
      "text/plain": [
       "<Figure size 1440x504 with 1 Axes>"
      ]
     },
     "metadata": {
      "needs_background": "light"
     },
     "output_type": "display_data"
    }
   ],
   "source": [
    "plt.figure(figsize=(20,7))\n",
    "plt.\n",
    "sns.swarmplot(df['make'], df['price'], size=10)"
   ]
  },
  {
   "cell_type": "code",
   "execution_count": 59,
   "metadata": {},
   "outputs": [
    {
     "data": {
      "text/plain": [
       "<matplotlib.legend.Legend at 0x2edf1967048>"
      ]
     },
     "execution_count": 59,
     "metadata": {},
     "output_type": "execute_result"
    },
    {
     "data": {
      "image/png": "[encoded data removed]",
      "text/plain": [
       "<Figure size 576x360 with 1 Axes>"
      ]
     },
     "metadata": {
      "needs_background": "light"
     },
     "output_type": "display_data"
    }
   ],
   "source": [
    "price_means = df[['body-style','drive-wheels','price']].groupby(['body-style', 'drive-wheels'], as_index=True).mean()\n",
    "body_styles = list(df['body-style'].unique())\n",
    "xticks = np.arange(len(body_styles)) * 1.25\n",
    "\n",
    "fwd_means  = list(price_means.loc[(body_styles,['fwd']), 'price'])\n",
    "rwd_means  = list(price_means.loc[(body_styles,['rwd']), 'price'])\n",
    "_4wd_means = list(price_means.loc[(body_styles,['4wd']), 'price'])\n",
    "\n",
    "groupedbar, axes1 = plt.subplots()\n",
    "rects1 = axes1.bar(xticks - 0.35, fwd_means, 0.35, label='FWD')\n",
    "rects2 = axes1.bar(xticks, rwd_means, 0.35, label='RWD')\n",
    "rects3 = axes1.bar(xticks[:3] + 0.35, _4wd_means, 0.35, label='4WD')\n",
    "\n",
    "axes1.set_ylabel('Mean Price')\n",
    "axes1.set_xlabel('Body Style')\n",
    "axes1.set_title('Mean Price by body style')\n",
    "axes1.set_xticks(xticks)\n",
    "axes1.set_xticklabels(body_styles)\n",
    "groupedbar.set_figwidth(8)\n",
    "groupedbar.set_figheight(5)\n",
    "groupedbar.legend()"
   ]
  },
  {
   "cell_type": "markdown",
   "metadata": {},
   "source": [
    "## Data Modelling"
   ]
  },
  {
   "cell_type": "code",
   "execution_count": 70,
   "metadata": {
    "_uuid": "4c1d3c3aac87e9652c72958cdc837dcf8cb6200b"
   },
   "outputs": [],
   "source": [
    "# import machine learning library\n",
    "from sklearn.model_selection import train_test_split\n",
    "# import stats library\n",
    "from scipy.stats import pearsonr"
   ]
  },
  {
   "cell_type": "code",
   "execution_count": 71,
   "metadata": {
    "_uuid": "30828432ecd55f738e7690b658e7878f126f1ac6"
   },
   "outputs": [
    {
     "data": {
      "text/plain": [
       "(0.8110268356667201, 8.142858884933839e-47)"
      ]
     },
     "execution_count": 71,
     "metadata": {},
     "output_type": "execute_result"
    }
   ],
   "source": [
    "# Calculate a Pearson correlation coefficient and the p-value for testing non-correlation\n",
    "pearsonr(df['horsepower'], df['price'])"
   ]
  },
  {
   "cell_type": "markdown",
   "metadata": {
    "_uuid": "a69a60cf720608e11566b6729da4aae8ac34a608"
   },
   "source": [
    "* The correlation coefficient of 0.81 shows a strong positive correlation\n",
    "* The p-value (probabilty of our data being uncorrelated): 1.189e-47 shows a low probability"
   ]
  },
  {
   "cell_type": "code",
   "execution_count": 72,
   "metadata": {
    "_uuid": "7194154b1252eb9f0187ad08f22e604cf19d3749"
   },
   "outputs": [],
   "source": [
    "# split dataset into training data and test data: 75% / 25%\n",
    "train, test = train_test_split(df, test_size=0.25)"
   ]
  },
  {
   "cell_type": "code",
   "execution_count": 73,
   "metadata": {
    "_uuid": "d547872f55ce0788ad6c23f8d1bee27dbfaad7d6"
   },
   "outputs": [
    {
     "name": "stdout",
     "output_type": "stream",
     "text": [
      "slope:  184.63321055801288 intercept:  -5564.82950286827\n"
     ]
    },
    {
     "name": "stderr",
     "output_type": "stream",
     "text": [
      "C:\\Users\\Admin\\anaconda3\\lib\\site-packages\\ipykernel_launcher.py:10: DeprecationWarning: np.asscalar(a) is deprecated since NumPy v1.16, use a.item() instead\n",
      "  # Remove the CWD from sys.path while we load stuff.\n"
     ]
    }
   ],
   "source": [
    "from sklearn import linear_model\n",
    "model = linear_model.LinearRegression()\n",
    "# reshape first array to 2D for .fit() method\n",
    "training_x = np.array(train['horsepower']).reshape(-1, 1)\n",
    "training_y = np.array(train['price'])\n",
    "\n",
    "# perform linear fit/regression\n",
    "model.fit(training_x, training_y)\n",
    "# turn coefficient array which contains only one number into a number\n",
    "slope = np.asscalar(np.squeeze(model.coef_))\n",
    "intercept = model.intercept_\n",
    "print('slope: ', slope, 'intercept: ', intercept)"
   ]
  },
  {
   "cell_type": "code",
   "execution_count": 74,
   "metadata": {
    "_uuid": "d9b23f1b23f88030bbf189ea4eda211073c3f329"
   },
   "outputs": [
    {
     "name": "stdout",
     "output_type": "stream",
     "text": [
      "training mean error:  3383.1440281647447 training mse:  23072353.629736025 training r2:  0.6759496693919138\n",
      "test mean error:  3472.466263980608 test mse:  20286363.069279745 test r2:  0.547397896723077\n"
     ]
    }
   ],
   "source": [
    "from sklearn.metrics import mean_absolute_error, mean_squared_error, r2_score\n",
    "\n",
    "# define a function to generate a prediction and then compare the desired metrics\n",
    "def predict_metrics(lr, x, y):\n",
    "    pred = lr.predict(x)\n",
    "    mae = mean_absolute_error(y, pred)\n",
    "    mse = mean_squared_error(y, pred)\n",
    "    r2 = r2_score(y, pred)\n",
    "    return mae, mse, r2\n",
    "\n",
    "training_mae, training_mse, training_r2 = predict_metrics(model, training_x, training_y)\n",
    "\n",
    "# calculate with test data for comparison\n",
    "test_x = np.array(test['horsepower']).reshape(-1, 1)\n",
    "test_y = np.array(test['price'])\n",
    "test_mae, test_mse, test_r2 = predict_metrics(model, test_x, test_y)\n",
    "\n",
    "print('training mean error: ', training_mae, 'training mse: ', training_mse, 'training r2: ', training_r2)\n",
    "print('test mean error: ', test_mae, 'test mse: ', test_mse, 'test r2: ', test_r2)"
   ]
  },
  {
   "cell_type": "markdown",
   "metadata": {
    "_uuid": "b063c2e792876bae63fa4a4e5c47158f6231dacc"
   },
   "source": [
    "Adding more features to model"
   ]
  },
  {
   "cell_type": "code",
   "execution_count": 75,
   "metadata": {
    "_uuid": "c6e9423191437c7392e384f2ec69d335bc4e2e80"
   },
   "outputs": [
    {
     "name": "stdout",
     "output_type": "stream",
     "text": [
      "horsepower (0.8110268356667201, 8.142858884933839e-47)\n",
      "engine-size (0.888942256912904, 2.2892976089488224e-67)\n",
      "peak-rpm (-0.10433339530640255, 0.1466312116184166)\n",
      "length (0.6953308343938744, 1.6848664050038481e-29)\n",
      "width (0.7542733859108733, 4.106033094148679e-37)\n",
      "height (0.13829068882904821, 0.053857306547437096)\n"
     ]
    }
   ],
   "source": [
    "cols = ['horsepower', 'engine-size', 'peak-rpm', 'length', 'width', 'height']\n",
    "for col in cols:\n",
    "    print(col, pearsonr(df[col], df['price']))"
   ]
  },
  {
   "cell_type": "code",
   "execution_count": 76,
   "metadata": {
    "_uuid": "9e93f0356421e3dfad1828bd5830080d4777bfad"
   },
   "outputs": [],
   "source": [
    "# drop peak-rpm & height from further analysis as they are weakly correlated\n",
    "\n",
    "# split data into train & test set\n",
    "model_cols = ['horsepower', 'engine-size', 'length', 'width']\n",
    "multi_x = np.column_stack(tuple(df[col] for col in model_cols))\n",
    "multi_train_x, multi_test_x, multi_train_y, multi_test_y = train_test_split(multi_x, df['price'], test_size=0.25)"
   ]
  },
  {
   "cell_type": "code",
   "execution_count": 77,
   "metadata": {
    "_uuid": "fcebb933506e7e38fb78bb7ab52c24c30050d642"
   },
   "outputs": [
    {
     "name": "stdout",
     "output_type": "stream",
     "text": [
      "intercept:  -50375.444448259244\n",
      "coefficients:  {'horsepower': 49.44973197316956, 'engine-size': 103.55091700573205, 'length': 36.859966766042525, 'width': 591.1033146389933}\n"
     ]
    }
   ],
   "source": [
    "# fit the model\n",
    "multi_model = linear_model.LinearRegression()\n",
    "multi_model.fit(multi_train_x, multi_train_y)\n",
    "multi_intercept = multi_model.intercept_\n",
    "multi_coeffs = dict(zip(model_cols, multi_model.coef_))\n",
    "print('intercept: ', multi_intercept)\n",
    "print('coefficients: ', multi_coeffs)"
   ]
  },
  {
   "cell_type": "markdown",
   "metadata": {},
   "source": [
    "Calculating error metrics."
   ]
  },
  {
   "cell_type": "code",
   "execution_count": 78,
   "metadata": {
    "_uuid": "1cd0e5ed0d338e55333e23340ad27024f28cbe46"
   },
   "outputs": [
    {
     "name": "stdout",
     "output_type": "stream",
     "text": [
      "training mean error:  2500.8876678390375 training mse:  12731010.72398181 training r2:  0.8106972530923493\n",
      "test mean error:  1992.7962705221735 test mse:  7230321.9741760325 test r2:  0.8665149683838214\n"
     ]
    }
   ],
   "source": [
    "multi_train_mae, multi_train_mse, multi_train_r2 = predict_metrics(multi_model, multi_train_x, multi_train_y)\n",
    "multi_test_mae, multi_test_mse, multi_test_r2 = predict_metrics(multi_model, multi_test_x, multi_test_y)\n",
    "\n",
    "print('training mean error: ', multi_train_mae, 'training mse: ', multi_train_mse, 'training r2: ', multi_train_r2)\n",
    "print('test mean error: ', multi_test_mae, 'test mse: ', multi_test_mse, 'test r2: ', multi_test_r2)"
   ]
  }
 ],
 "metadata": {
  "kernelspec": {
   "display_name": "Python 3",
   "language": "python",
   "name": "python3"
  },
  "language_info": {
   "codemirror_mode": {
    "name": "ipython",
    "version": 3
   },
   "file_extension": ".py",
   "mimetype": "text/x-python",
   "name": "python",
   "nbconvert_exporter": "python",
   "pygments_lexer": "ipython3",
   "version": "3.7.6"
  }
 },
 "nbformat": 4,
 "nbformat_minor": 4
}
